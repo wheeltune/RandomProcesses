{
 "cells": [
  {
   "cell_type": "markdown",
   "metadata": {
    "deletable": true,
    "editable": true
   },
   "source": [
    "**Случайные процессы, прикладной поток. Семинар 1.**\n",
    "\n",
    "**Анастасия Ремизова**\n",
    "\n",
    "# Проверка статистических гипотез в Python"
   ]
  },
  {
   "cell_type": "code",
   "execution_count": 3,
   "metadata": {
    "collapsed": true,
    "deletable": true,
    "editable": true
   },
   "outputs": [],
   "source": [
    "import numpy as np\n",
    "import scipy.stats as sps\n",
    "import matplotlib.pyplot as plt\n",
    "import pandas as pd\n",
    "\n",
    "from statsmodels.distributions.empirical_distribution import ECDF\n",
    "from sklearn.neighbors import KernelDensity as KDE\n",
    "from statsmodels.sandbox.stats.multicomp import multipletests\n",
    "\n",
    "%matplotlib inline"
   ]
  },
  {
   "cell_type": "markdown",
   "metadata": {
    "collapsed": true,
    "deletable": true,
    "editable": true
   },
   "source": [
    "**Критерий согласия хи-квадрат**\n",
    "\n",
    "<a href=https://docs.scipy.org/doc/scipy/reference/generated/scipy.stats.chisquare.html#scipy.stats.chisquare>`scipy.stats.chisquare`</a>`(f_obs, f_exp=None, ddof=0)`\n",
    "\n",
    "`f_obs` --- число элементов выборки, попавших в каждый из интервалов\n",
    "\n",
    "`f_exp` --- ожидаемое число элементов выборки (по умолчанию равномерное)\n",
    "\n",
    "`ddof` --- поправка на число степеней свободы. Статистика асимптотически будет иметь распределение хи-квадрат с числом степеней свободы $k - 1 - ddof$, где $k$ --- число интервалов.\n",
    "\n",
    "Возвращает значение статистики критерия и соответствующее p-value.\n",
    "\n",
    "**Критерий согласия Колмогорова**\n",
    "\n",
    "<a href=https://docs.scipy.org/doc/scipy/reference/generated/scipy.stats.kstest.html#scipy.stats.kstest>`scipy.stats.kstest`</a>`(rvs, cdf, args=())`\n",
    "\n",
    "`rvs` --- выборка\n",
    "\n",
    "`cdf` --- функция распределения (сама функция или ее название)\n",
    "\n",
    "`args` --- параметры распределения\n",
    "\n",
    "Возвращает значение статистики критерия и соответствующее p-value.\n",
    "\n",
    "**Критерий проверки нормальности Шапиро-Уилка**\n",
    "\n",
    "<a href=https://docs.scipy.org/doc/scipy/reference/generated/scipy.stats.shapiro.html>`scipy.stats.shapiro`</a>`(x, a=None, reta=False)`\n",
    "\n",
    "`x` --- выборка"
   ]
  },
  {
   "cell_type": "markdown",
   "metadata": {
    "deletable": true,
    "editable": true
   },
   "source": [
    "### Критерий согласия Колмогорова, хи-квадрат и Шапиро-Уилка для проверки распределения на нормальность"
   ]
  },
  {
   "cell_type": "markdown",
   "metadata": {
    "deletable": true,
    "editable": true
   },
   "source": [
    "Вспомогательная функция для построения графика:"
   ]
  },
  {
   "cell_type": "code",
   "execution_count": 2,
   "metadata": {
    "collapsed": true,
    "deletable": true,
    "editable": true
   },
   "outputs": [],
   "source": [
    "def norm_plot(x, bins=10, bandwidth=1):\n",
    "    plt.figure(figsize=(10, 6))\n",
    "    plt.hist(x, label=\"hist\", bins=bins, normed=True, color='turquoise')\n",
    "\n",
    "    xmin, xmax = plt.xlim()\n",
    "    x_axis = np.linspace(xmin, xmax, 300)\n",
    "\n",
    "    n_params = sps.norm.fit(x)\n",
    "    plt.plot(x_axis,\n",
    "             sps.norm.pdf(x_axis, loc=n_params[0], scale=n_params[1]),\n",
    "             label=\"norm_pdf\")\n",
    "\n",
    "    kernel_density = KDE(bandwidth=bandwidth).fit(x[:, np.newaxis])\n",
    "    plt.plot(x_axis, np.exp(kernel_density.score_samples(x_axis[:, np.newaxis])), label='kde')\n",
    "\n",
    "    plt.legend()\n",
    "    plt.show()"
   ]
  },
  {
   "cell_type": "markdown",
   "metadata": {
    "deletable": true,
    "editable": true
   },
   "source": [
    "Вспомогательная функция для проверки на нормальность. Критерий Колмогорова применяется для нормального распределения, у которого параметры &mdash; ОМП."
   ]
  },
  {
   "cell_type": "code",
   "execution_count": 99,
   "metadata": {
    "collapsed": true,
    "deletable": true,
    "editable": true
   },
   "outputs": [],
   "source": [
    "def check_norm(x, bins=10, alpha=0.05):    \n",
    "    print(\"Гипотеза: распределение нормальное.\\n\")\n",
    "    \n",
    "    shtest = sps.shapiro(x)\n",
    "    print(\"Статистика критерия Шапиро-Уилка:\", round(shtest[0], 5))\n",
    "    print(\"p-value: \", round(shtest[1], 5))\n",
    "    if shtest[1] < alpha:\n",
    "        print(\"Гипотеза отвергается.\\n\")\n",
    "    else:\n",
    "        print(\"Гипотеза не отвергается.\\n\")\n",
    "\n",
    "    n_params = sps.norm.fit(x)  # ОМП для нормального распределения\n",
    "    norm = sps.norm(loc=n_params[0], scale=n_params[1])\n",
    "    \n",
    "    kstest = sps.kstest(x, 'norm', args=n_params)\n",
    "    print(\"Статистика критерия Колмогорова:\", round(kstest.statistic, 5))\n",
    "    print(\"p-value: \", round(kstest.pvalue, 5))\n",
    "    if kstest.pvalue < alpha:\n",
    "        print(\"Гипотеза отвергается.\\n\")\n",
    "    else:\n",
    "        print(\"Гипотеза не отвергается.\\n\")\n",
    "    \n",
    "    # Вспомогательная функция, подсчитывающая число элементов выборки,\n",
    "    # лежащих в подмножествах разбиения.\n",
    "    def count_data(x, delim):\n",
    "        res = []\n",
    "        res.append((x < delim[0]).sum())\n",
    "        for i in range(1, len(delim)):\n",
    "            res.append(((delim[i-1] <= x) & (x < delim[i])).sum())\n",
    "        res.append((delim[-1] <= x).sum())\n",
    "        return res\n",
    "    \n",
    "    # Критерий хи-квадрат.\n",
    "    if len(x) < 50:\n",
    "        return\n",
    "    \n",
    "    if 5 > float(len(x)) / bins:\n",
    "        bins = int(len(x) / 5)\n",
    "    \n",
    "    # Разбиение на интервалы, равные по вероятностной мере.\n",
    "    f_exp = np.ones(bins, dtype=np.float64) / bins\n",
    "    delim = list(map(lambda y: norm.ppf(y), f_exp.cumsum()))\n",
    "    delim = delim[:-1]\n",
    "    ctest = sps.chisquare(count_data(x, delim), f_exp=f_exp * len(x))\n",
    "    print (\"Статистика критерия хи-квадрат при разбиении на интервалы, \"\\\n",
    "           \"равные по вероятностной мере:\",\n",
    "           round(ctest.statistic, 5))\n",
    "    print (\"p-value: \", round(ctest.pvalue, 5))\n",
    "    if ctest.pvalue < alpha:\n",
    "        print (\"Гипотеза отвергается.\\n\")\n",
    "    else:\n",
    "        print (\"Гипотеза не отвергается.\\n\")"
   ]
  },
  {
   "cell_type": "markdown",
   "metadata": {
    "deletable": true,
    "editable": true
   },
   "source": [
    "<a href=http://people.sc.fsu.edu/~jburkardt/datasets/regression/regression.html>Различные датасеты</a>"
   ]
  },
  {
   "cell_type": "code",
   "execution_count": 23,
   "metadata": {
    "collapsed": false,
    "deletable": true,
    "editable": true
   },
   "outputs": [
    {
     "name": "stdout",
     "output_type": "stream",
     "text": [
      "Размер выборки: 53\n"
     ]
    },
    {
     "data": {
      "text/html": [
       "<div>\n",
       "<style>\n",
       "    .dataframe thead tr:only-child th {\n",
       "        text-align: right;\n",
       "    }\n",
       "\n",
       "    .dataframe thead th {\n",
       "        text-align: left;\n",
       "    }\n",
       "\n",
       "    .dataframe tbody tr th {\n",
       "        vertical-align: top;\n",
       "    }\n",
       "</style>\n",
       "<table border=\"1\" class=\"dataframe\">\n",
       "  <thead>\n",
       "    <tr style=\"text-align: right;\">\n",
       "      <th></th>\n",
       "      <th>Index</th>\n",
       "      <th>RetardationIndex</th>\n",
       "      <th>DistrustIndex</th>\n",
       "      <th>DegreeOfIllnessAfter6Months</th>\n",
       "    </tr>\n",
       "  </thead>\n",
       "  <tbody>\n",
       "    <tr>\n",
       "      <th>0</th>\n",
       "      <td>1</td>\n",
       "      <td>2.80</td>\n",
       "      <td>6.1</td>\n",
       "      <td>44</td>\n",
       "    </tr>\n",
       "    <tr>\n",
       "      <th>1</th>\n",
       "      <td>2</td>\n",
       "      <td>3.10</td>\n",
       "      <td>5.1</td>\n",
       "      <td>25</td>\n",
       "    </tr>\n",
       "    <tr>\n",
       "      <th>2</th>\n",
       "      <td>3</td>\n",
       "      <td>2.59</td>\n",
       "      <td>6.0</td>\n",
       "      <td>10</td>\n",
       "    </tr>\n",
       "    <tr>\n",
       "      <th>3</th>\n",
       "      <td>4</td>\n",
       "      <td>3.36</td>\n",
       "      <td>6.9</td>\n",
       "      <td>28</td>\n",
       "    </tr>\n",
       "    <tr>\n",
       "      <th>4</th>\n",
       "      <td>5</td>\n",
       "      <td>2.80</td>\n",
       "      <td>7.0</td>\n",
       "      <td>25</td>\n",
       "    </tr>\n",
       "  </tbody>\n",
       "</table>\n",
       "</div>"
      ],
      "text/plain": [
       "   Index  RetardationIndex  DistrustIndex  DegreeOfIllnessAfter6Months\n",
       "0      1              2.80            6.1                           44\n",
       "1      2              3.10            5.1                           25\n",
       "2      3              2.59            6.0                           10\n",
       "3      4              3.36            6.9                           28\n",
       "4      5              2.80            7.0                           25"
      ]
     },
     "execution_count": 23,
     "metadata": {},
     "output_type": "execute_result"
    }
   ],
   "source": [
    "psych_data = pd.read_csv(\"x07.txt\", delim_whitespace=True)\n",
    "print(\"Размер выборки:\", len(psych_data))\n",
    "psych_data.head()"
   ]
  },
  {
   "cell_type": "code",
   "execution_count": 100,
   "metadata": {
    "collapsed": false,
    "deletable": true,
    "editable": true
   },
   "outputs": [
    {
     "data": {
      "image/png": "[encoded data removed]",
      "text/plain": [
       "<matplotlib.figure.Figure at 0x7fa37acf9ef0>"
      ]
     },
     "metadata": {},
     "output_type": "display_data"
    },
    {
     "name": "stdout",
     "output_type": "stream",
     "text": [
      "Гипотеза: распределение нормальное.\n",
      "\n",
      "Статистика критерия Шапиро-Уилка: 0.96178\n",
      "p-value:  0.08797\n",
      "Гипотеза не отвергается.\n",
      "\n",
      "Статистика критерия Колмогорова: 0.15884\n",
      "p-value:  0.12351\n",
      "Гипотеза не отвергается.\n",
      "\n",
      "Статистика критерия хи-квадрат при разбиении на интервалы, равные по вероятностной мере: 22.66038\n",
      "p-value:  0.00701\n",
      "Гипотеза отвергается.\n",
      "\n"
     ]
    }
   ],
   "source": [
    "x = psych_data.values[:, 1]\n",
    "norm_plot(x, bins=12, bandwidth=0.2)\n",
    "check_norm(x)"
   ]
  },
  {
   "cell_type": "code",
   "execution_count": 101,
   "metadata": {
    "collapsed": false,
    "deletable": true,
    "editable": true
   },
   "outputs": [
    {
     "data": {
      "image/png": "[encoded data removed]",
      "text/plain": [
       "<matplotlib.figure.Figure at 0x7fa37acad0f0>"
      ]
     },
     "metadata": {},
     "output_type": "display_data"
    },
    {
     "name": "stdout",
     "output_type": "stream",
     "text": [
      "Гипотеза: распределение нормальное.\n",
      "\n",
      "Статистика критерия Шапиро-Уилка: 0.95222\n",
      "p-value:  0.03355\n",
      "Гипотеза отвергается.\n",
      "\n",
      "Статистика критерия Колмогорова: 0.11437\n",
      "p-value:  0.46398\n",
      "Гипотеза не отвергается.\n",
      "\n",
      "Статистика критерия хи-квадрат при разбиении на интервалы, равные по вероятностной мере: 7.56604\n",
      "p-value:  0.5784\n",
      "Гипотеза не отвергается.\n",
      "\n"
     ]
    }
   ],
   "source": [
    "x = psych_data.values[:, 2]\n",
    "norm_plot(x, bins=13, bandwidth=0.3)\n",
    "check_norm(x)"
   ]
  },
  {
   "cell_type": "code",
   "execution_count": 102,
   "metadata": {
    "collapsed": false,
    "deletable": true,
    "editable": true
   },
   "outputs": [
    {
     "data": {
      "image/png": "[encoded data removed]",
      "text/plain": [
       "<matplotlib.figure.Figure at 0x7fa37b020f98>"
      ]
     },
     "metadata": {},
     "output_type": "display_data"
    },
    {
     "name": "stdout",
     "output_type": "stream",
     "text": [
      "Гипотеза: распределение нормальное.\n",
      "\n",
      "Статистика критерия Шапиро-Уилка: 0.84579\n",
      "p-value:  1e-05\n",
      "Гипотеза отвергается.\n",
      "\n",
      "Статистика критерия Колмогорова: 0.18335\n",
      "p-value:  0.04953\n",
      "Гипотеза отвергается.\n",
      "\n",
      "Статистика критерия хи-квадрат при разбиении на интервалы, равные по вероятностной мере: 34.73585\n",
      "p-value:  7e-05\n",
      "Гипотеза отвергается.\n",
      "\n"
     ]
    }
   ],
   "source": [
    "x = psych_data.values[:, 3]\n",
    "norm_plot(x, bins=13, bandwidth=10)\n",
    "check_norm(x)"
   ]
  },
  {
   "cell_type": "markdown",
   "metadata": {
    "deletable": true,
    "editable": true
   },
   "source": [
    "Можно сделать вывод (в частности, из второго примера), что критерий Шапиро-Уилка более мощный, чем критерий Колмогорова.\n",
    "\n",
    "Заметим, что если мы используем все рассматриваемые критерии для каждой соответствующей гипотезы, то мы не можем отклонять все гипотезы с pvalue < уровня значимости. Об этом речь пойдет позднее."
   ]
  },
  {
   "cell_type": "markdown",
   "metadata": {
    "deletable": true,
    "editable": true
   },
   "source": [
    "### Критерий согласия Колмогорова для выборки из гамма-распределения"
   ]
  },
  {
   "cell_type": "markdown",
   "metadata": {
    "deletable": true,
    "editable": true
   },
   "source": [
    "Следующий датасет &mdash; <a href=https://archive.ics.uci.edu/ml/datasets/Air+Quality>`Air Quality Data Set`</a> &mdash; содержит усредненные за час результаты измерения характеристик воздуха, таких, как содержание различных элементов, температуру и влажность."
   ]
  },
  {
   "cell_type": "code",
   "execution_count": 22,
   "metadata": {
    "collapsed": false,
    "deletable": true,
    "editable": true
   },
   "outputs": [
    {
     "data": {
      "text/html": [
       "<div>\n",
       "<style>\n",
       "    .dataframe thead tr:only-child th {\n",
       "        text-align: right;\n",
       "    }\n",
       "\n",
       "    .dataframe thead th {\n",
       "        text-align: left;\n",
       "    }\n",
       "\n",
       "    .dataframe tbody tr th {\n",
       "        vertical-align: top;\n",
       "    }\n",
       "</style>\n",
       "<table border=\"1\" class=\"dataframe\">\n",
       "  <thead>\n",
       "    <tr style=\"text-align: right;\">\n",
       "      <th></th>\n",
       "      <th>Date</th>\n",
       "      <th>Time</th>\n",
       "      <th>CO(GT)</th>\n",
       "      <th>PT08.S1(CO)</th>\n",
       "      <th>NMHC(GT)</th>\n",
       "      <th>C6H6(GT)</th>\n",
       "      <th>PT08.S2(NMHC)</th>\n",
       "      <th>NOx(GT)</th>\n",
       "      <th>PT08.S3(NOx)</th>\n",
       "      <th>NO2(GT)</th>\n",
       "      <th>PT08.S4(NO2)</th>\n",
       "      <th>PT08.S5(O3)</th>\n",
       "      <th>T</th>\n",
       "      <th>RH</th>\n",
       "      <th>AH</th>\n",
       "    </tr>\n",
       "  </thead>\n",
       "  <tbody>\n",
       "    <tr>\n",
       "      <th>0</th>\n",
       "      <td>10/03/2004</td>\n",
       "      <td>18.00.00</td>\n",
       "      <td>2.6</td>\n",
       "      <td>1360.0</td>\n",
       "      <td>150.0</td>\n",
       "      <td>11.9</td>\n",
       "      <td>1046.0</td>\n",
       "      <td>166.0</td>\n",
       "      <td>1056.0</td>\n",
       "      <td>113.0</td>\n",
       "      <td>1692.0</td>\n",
       "      <td>1268.0</td>\n",
       "      <td>13.6</td>\n",
       "      <td>48.9</td>\n",
       "      <td>0.7578</td>\n",
       "    </tr>\n",
       "    <tr>\n",
       "      <th>1</th>\n",
       "      <td>10/03/2004</td>\n",
       "      <td>19.00.00</td>\n",
       "      <td>2.0</td>\n",
       "      <td>1292.0</td>\n",
       "      <td>112.0</td>\n",
       "      <td>9.4</td>\n",
       "      <td>955.0</td>\n",
       "      <td>103.0</td>\n",
       "      <td>1174.0</td>\n",
       "      <td>92.0</td>\n",
       "      <td>1559.0</td>\n",
       "      <td>972.0</td>\n",
       "      <td>13.3</td>\n",
       "      <td>47.7</td>\n",
       "      <td>0.7255</td>\n",
       "    </tr>\n",
       "    <tr>\n",
       "      <th>2</th>\n",
       "      <td>10/03/2004</td>\n",
       "      <td>20.00.00</td>\n",
       "      <td>2.2</td>\n",
       "      <td>1402.0</td>\n",
       "      <td>88.0</td>\n",
       "      <td>9.0</td>\n",
       "      <td>939.0</td>\n",
       "      <td>131.0</td>\n",
       "      <td>1140.0</td>\n",
       "      <td>114.0</td>\n",
       "      <td>1555.0</td>\n",
       "      <td>1074.0</td>\n",
       "      <td>11.9</td>\n",
       "      <td>54.0</td>\n",
       "      <td>0.7502</td>\n",
       "    </tr>\n",
       "    <tr>\n",
       "      <th>3</th>\n",
       "      <td>10/03/2004</td>\n",
       "      <td>21.00.00</td>\n",
       "      <td>2.2</td>\n",
       "      <td>1376.0</td>\n",
       "      <td>80.0</td>\n",
       "      <td>9.2</td>\n",
       "      <td>948.0</td>\n",
       "      <td>172.0</td>\n",
       "      <td>1092.0</td>\n",
       "      <td>122.0</td>\n",
       "      <td>1584.0</td>\n",
       "      <td>1203.0</td>\n",
       "      <td>11.0</td>\n",
       "      <td>60.0</td>\n",
       "      <td>0.7867</td>\n",
       "    </tr>\n",
       "    <tr>\n",
       "      <th>4</th>\n",
       "      <td>10/03/2004</td>\n",
       "      <td>22.00.00</td>\n",
       "      <td>1.6</td>\n",
       "      <td>1272.0</td>\n",
       "      <td>51.0</td>\n",
       "      <td>6.5</td>\n",
       "      <td>836.0</td>\n",
       "      <td>131.0</td>\n",
       "      <td>1205.0</td>\n",
       "      <td>116.0</td>\n",
       "      <td>1490.0</td>\n",
       "      <td>1110.0</td>\n",
       "      <td>11.2</td>\n",
       "      <td>59.6</td>\n",
       "      <td>0.7888</td>\n",
       "    </tr>\n",
       "  </tbody>\n",
       "</table>\n",
       "</div>"
      ],
      "text/plain": [
       "         Date      Time  CO(GT)  PT08.S1(CO)  NMHC(GT)  C6H6(GT)  \\\n",
       "0  10/03/2004  18.00.00     2.6       1360.0     150.0      11.9   \n",
       "1  10/03/2004  19.00.00     2.0       1292.0     112.0       9.4   \n",
       "2  10/03/2004  20.00.00     2.2       1402.0      88.0       9.0   \n",
       "3  10/03/2004  21.00.00     2.2       1376.0      80.0       9.2   \n",
       "4  10/03/2004  22.00.00     1.6       1272.0      51.0       6.5   \n",
       "\n",
       "   PT08.S2(NMHC)  NOx(GT)  PT08.S3(NOx)  NO2(GT)  PT08.S4(NO2)  PT08.S5(O3)  \\\n",
       "0         1046.0    166.0        1056.0    113.0        1692.0       1268.0   \n",
       "1          955.0    103.0        1174.0     92.0        1559.0        972.0   \n",
       "2          939.0    131.0        1140.0    114.0        1555.0       1074.0   \n",
       "3          948.0    172.0        1092.0    122.0        1584.0       1203.0   \n",
       "4          836.0    131.0        1205.0    116.0        1490.0       1110.0   \n",
       "\n",
       "      T    RH      AH  \n",
       "0  13.6  48.9  0.7578  \n",
       "1  13.3  47.7  0.7255  \n",
       "2  11.9  54.0  0.7502  \n",
       "3  11.0  60.0  0.7867  \n",
       "4  11.2  59.6  0.7888  "
      ]
     },
     "execution_count": 22,
     "metadata": {},
     "output_type": "execute_result"
    }
   ],
   "source": [
    "air_data = pd.read_csv(\"AirQualityUCI.csv\", sep=\";\", decimal=\",\")\n",
    "air_data = air_data.drop(air_data.columns[[15, 16]], axis=1)\n",
    "air_data.head()"
   ]
  },
  {
   "cell_type": "markdown",
   "metadata": {
    "deletable": true,
    "editable": true
   },
   "source": [
    "Анализируем данные в столбце CO(GT) (средняя концентрация CO в мг/м^3). Подготовим данные &mdash; удалим отрицательные значения и NaN, так как они свидетельствуют о некорректности измерения."
   ]
  },
  {
   "cell_type": "code",
   "execution_count": 70,
   "metadata": {
    "collapsed": true,
    "deletable": true,
    "editable": true
   },
   "outputs": [],
   "source": [
    "x = air_data.values[:, 2]\n",
    "x = x[pd.isnull(np.array(x, dtype=float)) == False]\n",
    "x = x[x>=0]\n",
    "x = x.astype(np.float64)"
   ]
  },
  {
   "cell_type": "markdown",
   "metadata": {
    "deletable": true,
    "editable": true
   },
   "source": [
    "Вычислим параметры ОМП."
   ]
  },
  {
   "cell_type": "code",
   "execution_count": 73,
   "metadata": {
    "collapsed": true,
    "deletable": true,
    "editable": true
   },
   "outputs": [],
   "source": [
    "n_params = sps.norm.fit(x)\n",
    "g_params = sps.gamma.fit(x)"
   ]
  },
  {
   "cell_type": "markdown",
   "metadata": {
    "deletable": true,
    "editable": true
   },
   "source": [
    "Построим графики."
   ]
  },
  {
   "cell_type": "code",
   "execution_count": 98,
   "metadata": {
    "collapsed": false,
    "deletable": true,
    "editable": true
   },
   "outputs": [
    {
     "data": {
      "image/png": "[encoded data removed]",
      "text/plain": [
       "<matplotlib.figure.Figure at 0x7f68c511bc18>"
      ]
     },
     "metadata": {},
     "output_type": "display_data"
    },
    {
     "data": {
      "image/png": "[encoded data removed]",
      "text/plain": [
       "<matplotlib.figure.Figure at 0x7f68c50bf3c8>"
      ]
     },
     "metadata": {},
     "output_type": "display_data"
    }
   ],
   "source": [
    "# График hist, kde, norm/gamma pdf.\n",
    "plt.figure(figsize=(12, 8))\n",
    "plt.hist(x, label=\"hist\", bins=20, normed=True, color='turquoise')\n",
    "\n",
    "xmin, xmax = plt.xlim()\n",
    "x_axis = np.linspace(xmin, xmax, 300)\n",
    "\n",
    "plt.plot(x_axis,\n",
    "         sps.gamma.pdf(x_axis, g_params[0], loc=g_params[1], scale=g_params[2]),\n",
    "         label=\"gamma_pdf\")\n",
    "plt.plot(x_axis,\n",
    "         sps.norm.pdf(x_axis, loc=n_params[0], scale=n_params[1]),\n",
    "         label=\"norm_pdf\")\n",
    "\n",
    "kernel_density = KDE(bandwidth=0.2).fit(x[:, np.newaxis])\n",
    "plt.plot(x_axis, np.exp(kernel_density.score_samples(x_axis[:, np.newaxis])), label='kde')\n",
    "\n",
    "plt.legend()\n",
    "plt.show()\n",
    "\n",
    "# График ecdf, norm/gamma cdf.\n",
    "plt.figure(figsize=(12, 8))\n",
    "\n",
    "plt.plot(x_axis, ECDF(x)(x_axis), label='ecdf')\n",
    "plt.plot(x_axis,\n",
    "         sps.gamma.cdf(x_axis, g_params[0], loc=g_params[1], scale=g_params[2]),\n",
    "         label=\"gamma_сdf\")\n",
    "plt.plot(x_axis,\n",
    "         sps.norm.cdf(x_axis, loc=n_params[0], scale=n_params[1]),\n",
    "         label=\"norm_сdf\")\n",
    "plt.legend()\n",
    "plt.show()"
   ]
  },
  {
   "cell_type": "markdown",
   "metadata": {
    "deletable": true,
    "editable": true
   },
   "source": [
    "Можно увидеть, что распределение очень похоже на гамма-распределение, а вот на нормальное &mdash; совсем нет.\n",
    "Убедимся, что выборка не подчиняется нормальному распределению, используя критерии Колмогорова (параметры распределения - ОМП) и Шапиро-Уилка."
   ]
  },
  {
   "cell_type": "code",
   "execution_count": 104,
   "metadata": {
    "collapsed": true,
    "deletable": true,
    "editable": true
   },
   "outputs": [],
   "source": [
    "def check_norm_gamma(x, alpha=0.05):\n",
    "    shtest = sps.shapiro(x)\n",
    "    print (\"Гипотеза: распределение нормальное.\")\n",
    "    print (\"Статистика критерия Шапиро-Уилка:\", round(shtest[0], 3))\n",
    "    print (\"p-value: \", round(shtest[1], 3))\n",
    "    if shtest[1] < alpha:\n",
    "        print (\"Гипотеза отвергается.\\n\")\n",
    "    else:\n",
    "        print (\"Гипотеза не отвергается.\\n\")\n",
    "\n",
    "    n_params = sps.norm.fit(x)\n",
    "    g_params = sps.gamma.fit(x)\n",
    "    for dist, params, label in [('norm', n_params, 'нормальное'),\n",
    "                                ('gamma', g_params, 'гамма')]:\n",
    "        print (\"Гипотеза: распределение {0}.\".format(label))\n",
    "        kstest = sps.kstest(x, dist, args=params)\n",
    "        print (\"Статистика критерия Колмогорова:\", round(kstest.statistic, 3))\n",
    "        print (\"p-value: \", round(kstest.pvalue, 3))\n",
    "        if kstest.pvalue < alpha:\n",
    "            print (\"Гипотеза отвергается.\\n\")\n",
    "        else:\n",
    "            print (\"Гипотеза не отвергается.\\n\")"
   ]
  },
  {
   "cell_type": "code",
   "execution_count": 105,
   "metadata": {
    "collapsed": false,
    "deletable": true,
    "editable": true,
    "scrolled": true
   },
   "outputs": [
    {
     "name": "stdout",
     "output_type": "stream",
     "text": [
      "Гипотеза: распределение нормальное.\n",
      "Статистика критерия Шапиро-Уилка: 0.901\n",
      "p-value:  0.0\n",
      "Гипотеза отвергается.\n",
      "\n",
      "Гипотеза: распределение нормальное.\n",
      "Статистика критерия Колмогорова: 0.109\n",
      "p-value:  0.0\n",
      "Гипотеза отвергается.\n",
      "\n",
      "Гипотеза: распределение гамма.\n",
      "Статистика критерия Колмогорова: 0.024\n",
      "p-value:  0.0\n",
      "Гипотеза отвергается.\n",
      "\n"
     ]
    },
    {
     "name": "stderr",
     "output_type": "stream",
     "text": [
      "/home/feathernox/anaconda3/lib/python3.6/site-packages/scipy/stats/morestats.py:1326: UserWarning: p-value may not be accurate for N > 5000.\n",
      "  warnings.warn(\"p-value may not be accurate for N > 5000.\")\n"
     ]
    }
   ],
   "source": [
    "check_norm_gamma(x)"
   ]
  },
  {
   "cell_type": "markdown",
   "metadata": {
    "deletable": true,
    "editable": true
   },
   "source": [
    "Однако такое может происходить и потому, что выборка слишком велика (о чем нам говорит предупреждение). Возьмем подвыборку меньшего размера, причем с повторениями. Повторения необходимы, иначе свойства выборки нарушатся (поскольку мы не можем выбрать второй раз элемент, который уже был в выборке). Фактически, мы генерируем выборку из распределения с эмпирической функцией распределения, построенной по исходной выборке. На практике, берем выборку из дискретного равномерного распределения $\\{0, 1, ..., n-1\\}$, где $n$ равно размеру исходной выборки и выбираем элементы, соответствующие данным индексам в исходной."
   ]
  },
  {
   "cell_type": "code",
   "execution_count": 129,
   "metadata": {
    "collapsed": false,
    "deletable": true,
    "editable": true
   },
   "outputs": [
    {
     "name": "stdout",
     "output_type": "stream",
     "text": [
      "Гипотеза: распределение нормальное.\n",
      "Статистика критерия Шапиро-Уилка: 0.905\n",
      "p-value:  0.0\n",
      "Гипотеза отвергается.\n",
      "\n",
      "Гипотеза: распределение нормальное.\n",
      "Статистика критерия Колмогорова: 0.129\n",
      "p-value:  0.002\n",
      "Гипотеза отвергается.\n",
      "\n",
      "Гипотеза: распределение гамма.\n",
      "Статистика критерия Колмогорова: 0.052\n",
      "p-value:  0.643\n",
      "Гипотеза не отвергается.\n",
      "\n"
     ]
    }
   ],
   "source": [
    "sub_x = x[sps.randint.rvs(0, len(x), size=200)]\n",
    "check_norm_gamma(sub_x)"
   ]
  },
  {
   "cell_type": "markdown",
   "metadata": {
    "deletable": true,
    "editable": true
   },
   "source": [
    "Заметим, что нормальность распределения была отклонена, а вот принадлежность к гамма-распределению &mdash; нет."
   ]
  },
  {
   "cell_type": "markdown",
   "metadata": {
    "deletable": true,
    "editable": true
   },
   "source": [
    "### Множественная проверка гипотез"
   ]
  },
  {
   "cell_type": "markdown",
   "metadata": {
    "deletable": true,
    "editable": true
   },
   "source": [
    "<a href=http://www.statsmodels.org/dev/generated/statsmodels.sandbox.stats.multicomp.multipletests.html>`statsmodels.sandbox.stats.multicomp.multipletests`</a>`(pvals, alpha=0.05, method='hs', is_sorted=False, returnsorted=False)`\n",
    "\n",
    "`pvals` --- набор p-value\n",
    "\n",
    "`alpha` --- желаемый общий уровень значимости\n",
    "\n",
    "`method` --- метод (использовать 'bonferroni', если не знаете про другие)\n",
    "\n",
    "`is_sorted` --- если true, то `pvals` должны быть уже отсортированы\n",
    "\n",
    "-----\n",
    "\n",
    "Возвращает: `reject, pvals_corrected, alphacSidak, alphacBonf`\n",
    "\n",
    "`reject` --- отвергаемые гипотезы\n",
    "\n",
    "`pvals_corrected` --- корректировка p-value. Смысл - их можно сравнивать непосредственно с `alpha`."
   ]
  },
  {
   "cell_type": "markdown",
   "metadata": {
    "deletable": true,
    "editable": true
   },
   "source": [
    "**Задача (№1 из задания 11 по матстатистике):** Пусть имеется $k$ выборок $X_j$\n",
    ", для каждой из которых проверяется основная гипотеза $H_j$. Как\n",
    "выборки, так и гипотезы могут совпадать, но все критерии различны. Считается, что происходит ошибка I рода, если отвергнута хотя бы одна верная гипотеза. Получились следующие\n",
    "значения p-value: 0, 0.001, 0.01, 0.03, 0.04, 0.049, 0.1, 0.3, 1. Можно ли на уровне значимости\n",
    "0.05 отвергнуть все гипотезы, у которых p-value меньше 0.05? Предложите способ решения\n",
    "проблемы."
   ]
  },
  {
   "cell_type": "markdown",
   "metadata": {
    "deletable": true,
    "editable": true
   },
   "source": [
    "**Ответ:** нет; пусть:\n",
    "\n",
    "- $\\{X^i_j\\}_{ij}$ &mdash; все данные;\n",
    "- $S_j$ &mdash; критерий проверки гипотезы $H_j: \\mathsf{P} \\in \\mathcal{P}_j$: $\\mathsf{P} (X \\in S_j) \\leq \\alpha \\; \\forall \\mathsf{P} \\in \\mathcal{P}_j$.\n",
    "\n",
    "Пусть $\\mathsf{P}$ &mdash; вероятностная мера, при которой верны гипотезы $H_{j_1}, ..., H_{j_s}$. Тогда $\\bigcup_{i=1}^{s} S_{j_i}$ &mdash; событие \"произошла ошибка первого рода\". Поэтому требуется, чтобы $\\mathsf{P}(X \\in \\bigcup_{i=1}^{s} S_{j_i}) \\leq \\alpha$.\n",
    "\n",
    "А значит, мы не можем отвергать все гипотезы с p-value меньше $\\alpha$ &mdash; мы знаем лишь то, что $\\mathsf{P}(X \\in \\bigcup_{i=1}^{s} S_{j_i}) \\leq \\sum_{i=1}^s P(X \\in S_{j_i}) \\leq s \\alpha$, а это может быть больше $\\alpha$.\n",
    "\n",
    "Метод Бонферрони: можно брать в качестве уровня значимости $\\alpha \\; / \\; s$. Тогда рассматриваемая вероятность будет не больше $\\alpha$. Или, что то же самое, будем умножать pvalues на $s$, и сравнивать рассматриваемую вероятность с $\\alpha$."
   ]
  },
  {
   "cell_type": "code",
   "execution_count": 4,
   "metadata": {
    "collapsed": false,
    "deletable": true,
    "editable": true
   },
   "outputs": [
    {
     "name": "stdout",
     "output_type": "stream",
     "text": [
      "Гипотеза отклоняется: [ True  True False False False False False False False]\n",
      "Скорректированные p-values: [ 0.     0.009  0.09   0.27   0.36   0.441  0.9    1.     1.   ]\n"
     ]
    }
   ],
   "source": [
    "pvalues = np.array([0, 0.001, 0.01, 0.03, 0.04, 0.049, 0.1, 0.3, 1])\n",
    "res = multipletests(pvalues, method='bonferroni')\n",
    "print(\"Гипотеза отклоняется:\", res[0])\n",
    "print(\"Скорректированные p-values:\", res[1])"
   ]
  },
  {
   "cell_type": "markdown",
   "metadata": {
    "deletable": true,
    "editable": true
   },
   "source": [
    "### Критерий хи-квадрат для дискретного распределения"
   ]
  },
  {
   "cell_type": "markdown",
   "metadata": {
    "deletable": true,
    "editable": true
   },
   "source": [
    "Вспомогательная функция, форматирующая результат."
   ]
  },
  {
   "cell_type": "code",
   "execution_count": 109,
   "metadata": {
    "collapsed": true,
    "deletable": true,
    "editable": true
   },
   "outputs": [],
   "source": [
    "def chisquare_format(result, alpha=0.05):\n",
    "    print(\"Статистика критерия хи-квадрат:\", round(result.statistic, 3))\n",
    "    print(\"p-value: \", round(result.pvalue, 3))\n",
    "    if result.pvalue < alpha:\n",
    "        print(\"Гипотеза отвергается.\")\n",
    "    else:\n",
    "        print(\"Гипотеза не отвергается.\")"
   ]
  },
  {
   "cell_type": "markdown",
   "metadata": {
    "deletable": true,
    "editable": true
   },
   "source": [
    "**Задача (№7 из ДЗ 11 по матстатистике):** Цифры 0, 1, 2, ...,9 среди 800 первых десятичных знаков числа $\\pi$ появились 74, 92, 83, 79, 80, 73, 77, 75, 76, 91 раз соответственно. С помощью хи-квадрат критерия проверьте гипотезу о согласии этих данных с законом равномерного распределения на множестве {0, 1, ..., 9} на уровне значимости 0.05."
   ]
  },
  {
   "cell_type": "code",
   "execution_count": 112,
   "metadata": {
    "collapsed": false,
    "deletable": true,
    "editable": true
   },
   "outputs": [
    {
     "data": {
      "image/png": "[encoded data removed]",
      "text/plain": [
       "<matplotlib.figure.Figure at 0x7fa37acd32b0>"
      ]
     },
     "metadata": {},
     "output_type": "display_data"
    },
    {
     "name": "stdout",
     "output_type": "stream",
     "text": [
      "Статистика критерия хи-квадрат: 5.125\n",
      "p-value:  0.823\n",
      "Гипотеза не отвергается.\n"
     ]
    }
   ],
   "source": [
    "x = np.array([74, 92, 83, 79, 80, 73, 77, 75, 76, 91])\n",
    "\n",
    "plt.hist(range(10), weights=x, ls='solid', ec='black')\n",
    "plt.title(\"Количество цифр\")\n",
    "plt.xticks(np.linspace(0.5, 8.5, 10), range(10))\n",
    "plt.show()\n",
    "\n",
    "chisquare_format(sps.chisquare(x))"
   ]
  },
  {
   "cell_type": "markdown",
   "metadata": {
    "deletable": true,
    "editable": true
   },
   "source": [
    "**Задача (№8 из ДЗ 11 по матстатистике):** Профессиональный дантист научился выбивать зубы мудрости кулаком. Известно, что 52 зуба мудрости он выбил с первой попытки, 31 — со второй, 3 — с третьей, на выбивание оставшихся 5 зубов ему потребовалось более 4 попыток. Проверить гипотезу о том, что дантист выбивает произвольный зуб мудрости с вероятностью 2/3, на уровне значимости 0.05."
   ]
  },
  {
   "cell_type": "markdown",
   "metadata": {
    "deletable": true,
    "editable": true
   },
   "source": [
    "Заметим, что такая ситуация соответствует геометрическому распределению. Также объединим категории \"выбил с 3 попыток\" и \"выбил с >= 4 попыток\", так как применение критерия хи-квадрат некорректно, если не для каждого $p^0_j$ выполнено $n p^0_j \\geq 5$."
   ]
  },
  {
   "cell_type": "code",
   "execution_count": 31,
   "metadata": {
    "collapsed": false,
    "deletable": true,
    "editable": true
   },
   "outputs": [
    {
     "name": "stdout",
     "output_type": "stream",
     "text": [
      "Статистика критерия хи-квадрат: 7.423\n",
      "p-value:  0.024\n",
      "Гипотеза отвергается.\n"
     ]
    }
   ],
   "source": [
    "x = np.array([52, 31, 8])\n",
    "chisquare_format(sps.chisquare(x, x.sum() * np.array([2/3, 2/9, 1 - 2/3 - 2/9])))"
   ]
  }
 ],
 "metadata": {
  "kernelspec": {
   "display_name": "Python 3",
   "language": "python",
   "name": "python3"
  },
  "language_info": {
   "codemirror_mode": {
    "name": "ipython",
    "version": 3
   },
   "file_extension": ".py",
   "mimetype": "text/x-python",
   "name": "python",
   "nbconvert_exporter": "python",
   "pygments_lexer": "ipython3",
   "version": "3.5.2"
  }
 },
 "nbformat": 4,
 "nbformat_minor": 2
}
