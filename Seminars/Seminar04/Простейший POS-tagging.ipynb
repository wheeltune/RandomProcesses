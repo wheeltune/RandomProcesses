{
 "cells": [
  {
   "cell_type": "markdown",
   "metadata": {},
   "source": [
    "# Случайные процессы. Прикладной поток.\n",
    "## Семинар 4"
   ]
  },
  {
   "cell_type": "code",
   "execution_count": 1,
   "metadata": {
    "collapsed": true
   },
   "outputs": [],
   "source": [
    "import numpy as np\n",
    "import nltk  # sudo pip3 install nltk\n",
    "from collections import Counter, defaultdict\n",
    "from sklearn.metrics import accuracy_score"
   ]
  },
  {
   "cell_type": "markdown",
   "metadata": {},
   "source": [
    "Скачайте `conll2000` следующей командой. Если у вас появляется новое окно, выберите там вкладку `Corpora`"
   ]
  },
  {
   "cell_type": "code",
   "execution_count": null,
   "metadata": {
    "collapsed": true
   },
   "outputs": [],
   "source": [
    "nltk.download()"
   ]
  },
  {
   "cell_type": "code",
   "execution_count": 3,
   "metadata": {
    "collapsed": true
   },
   "outputs": [],
   "source": [
    "from nltk.corpus import conll2000"
   ]
  },
  {
   "cell_type": "markdown",
   "metadata": {},
   "source": [
    "Разобъем данные на две части --- по первой части оценим параметры, а по второй посчитаем качество."
   ]
  },
  {
   "cell_type": "code",
   "execution_count": 4,
   "metadata": {
    "collapsed": true
   },
   "outputs": [],
   "source": [
    "train_sents = conll2000.tagged_sents()[:8000]\n",
    "test_sents = conll2000.tagged_sents()[8000:]"
   ]
  },
  {
   "cell_type": "markdown",
   "metadata": {},
   "source": [
    "Данные представлены в виде списка предложений, где для каждого слова указан его тег (часть речи)."
   ]
  },
  {
   "cell_type": "code",
   "execution_count": 5,
   "metadata": {
    "collapsed": false
   },
   "outputs": [
    {
     "data": {
      "text/plain": [
       "[[('Confidence', 'NN'), ('in', 'IN'), ('the', 'DT'), ('pound', 'NN'), ('is', 'VBZ'), ('widely', 'RB'), ('expected', 'VBN'), ('to', 'TO'), ('take', 'VB'), ('another', 'DT'), ('sharp', 'JJ'), ('dive', 'NN'), ('if', 'IN'), ('trade', 'NN'), ('figures', 'NNS'), ('for', 'IN'), ('September', 'NNP'), (',', ','), ('due', 'JJ'), ('for', 'IN'), ('release', 'NN'), ('tomorrow', 'NN'), (',', ','), ('fail', 'VB'), ('to', 'TO'), ('show', 'VB'), ('a', 'DT'), ('substantial', 'JJ'), ('improvement', 'NN'), ('from', 'IN'), ('July', 'NNP'), ('and', 'CC'), ('August', 'NNP'), (\"'s\", 'POS'), ('near-record', 'JJ'), ('deficits', 'NNS'), ('.', '.')], [('Chancellor', 'NNP'), ('of', 'IN'), ('the', 'DT'), ('Exchequer', 'NNP'), ('Nigel', 'NNP'), ('Lawson', 'NNP'), (\"'s\", 'POS'), ('restated', 'VBN'), ('commitment', 'NN'), ('to', 'TO'), ('a', 'DT'), ('firm', 'NN'), ('monetary', 'JJ'), ('policy', 'NN'), ('has', 'VBZ'), ('helped', 'VBN'), ('to', 'TO'), ('prevent', 'VB'), ('a', 'DT'), ('freefall', 'NN'), ('in', 'IN'), ('sterling', 'NN'), ('over', 'IN'), ('the', 'DT'), ('past', 'JJ'), ('week', 'NN'), ('.', '.')], ...]"
      ]
     },
     "execution_count": 5,
     "metadata": {},
     "output_type": "execute_result"
    }
   ],
   "source": [
    "train_sents"
   ]
  },
  {
   "cell_type": "markdown",
   "metadata": {},
   "source": [
    "Предложение представлено в виде списка пар слово-тег. Пример:"
   ]
  },
  {
   "cell_type": "code",
   "execution_count": 6,
   "metadata": {
    "collapsed": false
   },
   "outputs": [
    {
     "data": {
      "text/plain": [
       "[('Confidence', 'NN'),\n",
       " ('in', 'IN'),\n",
       " ('the', 'DT'),\n",
       " ('pound', 'NN'),\n",
       " ('is', 'VBZ'),\n",
       " ('widely', 'RB'),\n",
       " ('expected', 'VBN'),\n",
       " ('to', 'TO'),\n",
       " ('take', 'VB'),\n",
       " ('another', 'DT'),\n",
       " ('sharp', 'JJ'),\n",
       " ('dive', 'NN'),\n",
       " ('if', 'IN'),\n",
       " ('trade', 'NN'),\n",
       " ('figures', 'NNS'),\n",
       " ('for', 'IN'),\n",
       " ('September', 'NNP'),\n",
       " (',', ','),\n",
       " ('due', 'JJ'),\n",
       " ('for', 'IN'),\n",
       " ('release', 'NN'),\n",
       " ('tomorrow', 'NN'),\n",
       " (',', ','),\n",
       " ('fail', 'VB'),\n",
       " ('to', 'TO'),\n",
       " ('show', 'VB'),\n",
       " ('a', 'DT'),\n",
       " ('substantial', 'JJ'),\n",
       " ('improvement', 'NN'),\n",
       " ('from', 'IN'),\n",
       " ('July', 'NNP'),\n",
       " ('and', 'CC'),\n",
       " ('August', 'NNP'),\n",
       " (\"'s\", 'POS'),\n",
       " ('near-record', 'JJ'),\n",
       " ('deficits', 'NNS'),\n",
       " ('.', '.')]"
      ]
     },
     "execution_count": 6,
     "metadata": {},
     "output_type": "execute_result"
    }
   ],
   "source": [
    "train_sents[0]"
   ]
  },
  {
   "cell_type": "markdown",
   "metadata": {},
   "source": [
    "Рассмотрим самую простую модель\n",
    "$$tag(w) = \\arg \\max_{i \\in 1 .. |Tags| } P(tag_i \\mid w).$$\n",
    "\n",
    "В данной модели каждому слову сопоставляется тег, который дает максимум условной вероятности для данного слова. Можно заметить, что такое правило сопоставления тегов не зависит от контекста.\n",
    "Модель реализуется следующим классом.\n",
    "\n",
    "*При использовании такой модели не получится сопоставить слову тег, если этого слова не было в размеченных данных. Для повышения качества можно в таких случаях всегда выдавать, например, тег `NN`.*"
   ]
  },
  {
   "cell_type": "code",
   "execution_count": 7,
   "metadata": {
    "collapsed": false
   },
   "outputs": [],
   "source": [
    "class ObviousPOSTagger:\n",
    "    def fit(self, train_sents):\n",
    "        '''Оценка условных вероятностей по предожениям из train_sents.'''\n",
    "        \n",
    "        self.model = defaultdict(Counter)\n",
    "\n",
    "        # Создание словаря {(слово, тег): количество}\n",
    "        for t_sent in train_sents:\n",
    "            for word, tag in t_sent:\n",
    "                self.model[word][tag] += 1\n",
    "\n",
    "        # Нормировка (необязательна, т.к. берем argmax)\n",
    "        #for word in self.model:\n",
    "        #    sum_values = sum(self.model[word].values())\n",
    "        #    for token in self.model[word]:\n",
    "        #        self.model[word][token] /= sum_values\n",
    "                \n",
    "                \n",
    "    def tagging(self, sent):\n",
    "        '''Каждому слову из предложений sent сопоставляет тег.'''\n",
    "        \n",
    "        tags = []\n",
    "        for word in sent:\n",
    "            tags.append(self.model[word].most_common(1)[0][0] if word in self.model else 'NN')\n",
    "        return list(zip(sent, tags))"
   ]
  },
  {
   "cell_type": "markdown",
   "metadata": {},
   "source": [
    "Определим модель и оценим ее параметры по размеченным данным."
   ]
  },
  {
   "cell_type": "code",
   "execution_count": 8,
   "metadata": {
    "collapsed": false
   },
   "outputs": [],
   "source": [
    "tagger = ObviousPOSTagger()\n",
    "tagger.fit(train_sents)"
   ]
  },
  {
   "cell_type": "markdown",
   "metadata": {},
   "source": [
    "С помощью полученной модели определим теги для второй части размеченных данных"
   ]
  },
  {
   "cell_type": "code",
   "execution_count": 9,
   "metadata": {
    "collapsed": false
   },
   "outputs": [],
   "source": [
    "tagging_test = [tagger.tagging([word for word, tag in sent]) for sent in test_sents]"
   ]
  },
  {
   "cell_type": "markdown",
   "metadata": {},
   "source": [
    "Составим список полученных тегов, которые определила модель и которые уже были в наших данных."
   ]
  },
  {
   "cell_type": "code",
   "execution_count": 10,
   "metadata": {
    "collapsed": false
   },
   "outputs": [],
   "source": [
    "correct_tags = [tag for sent in test_sents for word, tag in sent]\n",
    "predict_tags = [tag for sent in tagging_test for word, tag in sent]"
   ]
  },
  {
   "cell_type": "markdown",
   "metadata": {},
   "source": [
    "Точность (доля верно предсказанных тегов)"
   ]
  },
  {
   "cell_type": "code",
   "execution_count": 13,
   "metadata": {
    "collapsed": false
   },
   "outputs": [
    {
     "name": "stdout",
     "output_type": "stream",
     "text": [
      "0.907\n"
     ]
    }
   ],
   "source": [
    "print('%.3f' % accuracy_score(correct_tags, predict_tags))"
   ]
  }
 ],
 "metadata": {
  "kernelspec": {
   "display_name": "Python 3.4",
   "language": "python",
   "name": "python3.4"
  },
  "language_info": {
   "codemirror_mode": {
    "name": "ipython",
    "version": 3
   },
   "file_extension": ".py",
   "mimetype": "text/x-python",
   "name": "python",
   "nbconvert_exporter": "python",
   "pygments_lexer": "ipython3",
   "version": "3.4.0"
  }
 },
 "nbformat": 4,
 "nbformat_minor": 0
}
